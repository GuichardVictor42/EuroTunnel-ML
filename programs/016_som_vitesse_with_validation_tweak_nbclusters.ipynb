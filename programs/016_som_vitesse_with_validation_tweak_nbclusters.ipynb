{
 "cells": [
  {
   "cell_type": "code",
   "execution_count": 1,
   "id": "f38fed07",
   "metadata": {},
   "outputs": [],
   "source": [
    "\n",
    "\n",
    "# Native libraries\n",
    "import os\n",
    "import math\n",
    "# Essential Libraries\n",
    "import pandas as pd\n",
    "import matplotlib.pyplot as plt\n",
    "import numpy as np\n",
    "# Preprocessing\n",
    "from sklearn.preprocessing import MinMaxScaler\n",
    "# Algorithms\n",
    "from minisom import MiniSom\n",
    "import numpy.random as rd\n",
    "\n",
    "import seaborn as sns\n",
    "\n",
    "##MARCHENT PAS CAR NUMPY 1.20.3 MAIS PAS GRAVE POUR SOM\n",
    "# from tslearn.barycenters import dtw_barycenter_averaging\n",
    "# from tslearn.clustering import TimeSeriesKMeans\n",
    "# from sklearn.cluster import KMeans\n",
    "\n",
    "from sklearn.decomposition import PCA\n",
    "from sklearn.metrics import confusion_matrix\n",
    "\n"
   ]
  },
  {
   "cell_type": "code",
   "execution_count": 2,
   "id": "c3ee3565",
   "metadata": {},
   "outputs": [],
   "source": [
    "#fonctions et variables utiles\n",
    "\n",
    "def read_text_file(file_path):\n",
    "    with open(file_path, encoding='ISO-8859-1') as f:\n",
    "        lines = f.readlines()\n",
    "        return lines\n",
    "        \n",
    "def read_number_line(some_line):\n",
    "    return [float(s) for s in some_line.split()]\n",
    "\n",
    "# my_dpi = np.sqrt(1920**2 + 1080**2)/17.3 #dpi de l'écran\n",
    "# tnorm = 60. #normalisation du temps\n",
    "# vnorm = 1.05 #normalisation de la vitesse"
   ]
  },
  {
   "cell_type": "code",
   "execution_count": 3,
   "id": "918b1d85",
   "metadata": {},
   "outputs": [],
   "source": [
    "##dossiers où récupérer les données\n",
    "\n",
    "#training\n",
    "folder = \"C:/Users/victo/stage_navier_jupyter/data_eurotunnel/Data/training/\"\n",
    "pk_folder = \"1775_20190128/\" #le PK qu'on va traiter\n",
    "\n",
    "done = [\"1775_20190128/\", \"1780_20190128/\", \"1785_20190128/\", \"1795_20190128/\", \"1800_20190128/\", \"1805_20190128/\",\n",
    "        \"1810_20190128/\", \"1815_20190128/\", \"1820_20190128/\", \"1825_20190128/\", \"1830_20190128/\", \"1835_20190128/\",\n",
    "        \"1840_20190128/\", \"3020_20190218/\", \"3025_20190218/\", \"3030_20190218/\", \"3035_20190218/\", \"3040_20190218/\",\n",
    "        \"3045_20190218/\", \"3050_20190218/\", \"3055_20190218/\", \"3060_20190218/\", \"3065_20190218/\", \"3070_20190218/\",\n",
    "        \"3075_20190218/\", \"3080_20190218/\", \"4230_20190225/\", \"4235_20190225/\", \"4240_20190225/\", \"4255_20190225/\",\n",
    "        \"4260_20190225/\"]\n",
    "failed = [\"1790_20190128/\", \"3015_20190218\"]\n",
    "\n",
    "# #validation\n",
    "# folder = \"C:/Users/victo/stage_navier_jupyter/data_eurotunnel/Data/validation/\"\n",
    "# pk_folder = \"4250_20190225/\" #le PK qu'on va traiter\n",
    "\n",
    "done_val = [\"4245_20190225/\", \"4250_20190225/\"]\n",
    "\n",
    "os.chdir(folder)\n",
    "\n"
   ]
  },
  {
   "cell_type": "code",
   "execution_count": 4,
   "id": "aac2b60d",
   "metadata": {},
   "outputs": [],
   "source": [
    "# path = folder + pk_folder #pour accéder aux fichiers .blochet du PK pk_folder\n",
    "\n",
    "mySeries = [] #series pandas\n",
    "namesofMySeries = [] #nom correspondant a chaque blochet\n",
    "\n",
    "# os.chdir(path) #current directory: C:/Users/victo/stage_navier_jupyter/data_eurotunnel/Data/training/1775-20190128/\n",
    "\n",
    "def read_text_file(file_path):\n",
    "    with open(file_path, encoding='ISO-8859-1') as f:\n",
    "        lines = f.readlines()\n",
    "        return lines\n",
    "    \n",
    "y_true = []\n",
    "\n",
    "for pk_folder_loop in os.listdir(folder):\n",
    "    if (pk_folder_loop + \"/\") in done:\n",
    "        path = folder + pk_folder_loop\n",
    "        for file in os.listdir(path):\n",
    "            if file.endswith(\".blochet\"):\n",
    "                file_path = f\"{path}/{file}\"\n",
    "                lines = read_text_file(file_path)\n",
    "                \n",
    "                y_true.append(int(lines[-1][-1]))\n",
    "\n",
    "                times = []\n",
    "                speeds = []\n",
    "                freqs = []\n",
    "                frfs_real = []\n",
    "                frfs_imag = []\n",
    "\n",
    "                lines_to_read = lines[15:len(lines)-1] #valeurs commencent ligne 16 et saut de ligne à la fin\n",
    "                \n",
    "                for i in range(len(lines_to_read)):\n",
    "                    read_line = read_number_line(lines_to_read[i])\n",
    "                    times.append(read_line[0])\n",
    "                    speeds.append(read_line[1])\n",
    "                    freqs.append(read_line[2])\n",
    "                    frfs_real.append(read_line[3])\n",
    "                    frfs_imag.append(read_line[4])\n",
    "\n",
    "                dict = {\"Temps\":times, \"Vitesses\":speeds, \"Fréquences\":freqs, \"FRF réel\":frfs_real, \"FRF imag\":frfs_imag}\n",
    "                df = pd.DataFrame(dict)\n",
    "\n",
    "                df = df.loc[:, [\"Temps\", \"Vitesses\"]]\n",
    "                df.set_index(\"Temps\", inplace=True)\n",
    "\n",
    "                mySeries.append(df)\n",
    "                namesofMySeries.append(pk_folder_loop + \"_\" + file[:-8])"
   ]
  },
  {
   "cell_type": "code",
   "execution_count": 5,
   "id": "d40f4c9e",
   "metadata": {},
   "outputs": [
    {
     "data": {
      "text/plain": [
       "4850"
      ]
     },
     "execution_count": 5,
     "metadata": {},
     "output_type": "execute_result"
    }
   ],
   "source": [
    "len(mySeries)"
   ]
  },
  {
   "cell_type": "code",
   "execution_count": 6,
   "id": "3dd30111",
   "metadata": {},
   "outputs": [
    {
     "data": {
      "text/html": [
       "<div>\n",
       "<style scoped>\n",
       "    .dataframe tbody tr th:only-of-type {\n",
       "        vertical-align: middle;\n",
       "    }\n",
       "\n",
       "    .dataframe tbody tr th {\n",
       "        vertical-align: top;\n",
       "    }\n",
       "\n",
       "    .dataframe thead th {\n",
       "        text-align: right;\n",
       "    }\n",
       "</style>\n",
       "<table border=\"1\" class=\"dataframe\">\n",
       "  <thead>\n",
       "    <tr style=\"text-align: right;\">\n",
       "      <th></th>\n",
       "      <th>Vitesses</th>\n",
       "    </tr>\n",
       "    <tr>\n",
       "      <th>Temps</th>\n",
       "      <th></th>\n",
       "    </tr>\n",
       "  </thead>\n",
       "  <tbody>\n",
       "    <tr>\n",
       "      <th>0.000000</th>\n",
       "      <td>0.001956</td>\n",
       "    </tr>\n",
       "    <tr>\n",
       "      <th>0.097656</th>\n",
       "      <td>0.002443</td>\n",
       "    </tr>\n",
       "    <tr>\n",
       "      <th>0.195312</th>\n",
       "      <td>0.001975</td>\n",
       "    </tr>\n",
       "    <tr>\n",
       "      <th>0.292969</th>\n",
       "      <td>0.003927</td>\n",
       "    </tr>\n",
       "    <tr>\n",
       "      <th>0.390625</th>\n",
       "      <td>0.002536</td>\n",
       "    </tr>\n",
       "    <tr>\n",
       "      <th>...</th>\n",
       "      <td>...</td>\n",
       "    </tr>\n",
       "    <tr>\n",
       "      <th>59.472660</th>\n",
       "      <td>-0.000771</td>\n",
       "    </tr>\n",
       "    <tr>\n",
       "      <th>59.570310</th>\n",
       "      <td>0.000244</td>\n",
       "    </tr>\n",
       "    <tr>\n",
       "      <th>59.667970</th>\n",
       "      <td>0.000449</td>\n",
       "    </tr>\n",
       "    <tr>\n",
       "      <th>59.765630</th>\n",
       "      <td>0.000154</td>\n",
       "    </tr>\n",
       "    <tr>\n",
       "      <th>59.863280</th>\n",
       "      <td>-0.002553</td>\n",
       "    </tr>\n",
       "  </tbody>\n",
       "</table>\n",
       "<p>614 rows × 1 columns</p>\n",
       "</div>"
      ],
      "text/plain": [
       "           Vitesses\n",
       "Temps              \n",
       "0.000000   0.001956\n",
       "0.097656   0.002443\n",
       "0.195312   0.001975\n",
       "0.292969   0.003927\n",
       "0.390625   0.002536\n",
       "...             ...\n",
       "59.472660 -0.000771\n",
       "59.570310  0.000244\n",
       "59.667970  0.000449\n",
       "59.765630  0.000154\n",
       "59.863280 -0.002553\n",
       "\n",
       "[614 rows x 1 columns]"
      ]
     },
     "execution_count": 6,
     "metadata": {},
     "output_type": "execute_result"
    }
   ],
   "source": [
    "mySeries[42]"
   ]
  },
  {
   "cell_type": "code",
   "execution_count": 7,
   "id": "88c1e226",
   "metadata": {},
   "outputs": [
    {
     "name": "stdout",
     "output_type": "stream",
     "text": [
      "Valeurs inscrites: {0, 1}\n",
      "Bonne longueur de liste: True\n",
      "Pourcentage de blochets inexploitables: 18.186%\n",
      "\n"
     ]
    }
   ],
   "source": [
    "y_true_values = {x for x in y_true}\n",
    "print(\"Valeurs inscrites: \" + str(y_true_values) + \"\\n\" + \n",
    "      \"Bonne longueur de liste: \" + str(len(mySeries)==len(y_true)) + \"\\n\" +\n",
    "      \"Pourcentage de blochets inexploitables: \" + str(round(100*(1 - np.sum(y_true)/len(y_true)), 3)) + \"%\" + \"\\n\")\n",
    "\n",
    "#valeurs en float64"
   ]
  },
  {
   "cell_type": "markdown",
   "id": "03638d98",
   "metadata": {},
   "source": [
    "Visualisation (ne pas décommenter, ça affiche tous les blochets donc c'est très long)"
   ]
  },
  {
   "cell_type": "code",
   "execution_count": 8,
   "id": "71e5813f",
   "metadata": {
    "scrolled": true
   },
   "outputs": [],
   "source": [
    "# fig, axs = plt.subplots(485,10,figsize=(50,500))\n",
    "# fig.suptitle('Series')\n",
    "# for i in range(485):\n",
    "#     for j in range(10):\n",
    "#         if i*10+j+1>len(mySeries): # pass the others that we can't fill\n",
    "#             continue\n",
    "#         axs[i, j].plot(mySeries[i*10+j].values)\n",
    "#         axs[i, j].set_title(namesofMySeries[i*10+j])\n",
    "# plt.show()"
   ]
  },
  {
   "cell_type": "markdown",
   "id": "22996fa1",
   "metadata": {},
   "source": [
    "Check si toutes les séries ont bien la même longueur:"
   ]
  },
  {
   "cell_type": "code",
   "execution_count": 9,
   "id": "99041db3",
   "metadata": {},
   "outputs": [
    {
     "name": "stdout",
     "output_type": "stream",
     "text": [
      "{614}\n"
     ]
    }
   ],
   "source": [
    "series_lengths = {len(series) for series in mySeries}\n",
    "print(series_lengths)"
   ]
  },
  {
   "cell_type": "markdown",
   "id": "dbe26390",
   "metadata": {},
   "source": [
    "C'est le cas, pas besoin de correction on passe direct à la normalisation."
   ]
  },
  {
   "cell_type": "code",
   "execution_count": 10,
   "id": "d105a55a",
   "metadata": {},
   "outputs": [],
   "source": [
    "for i in range(len(mySeries)):\n",
    "    scaler = MinMaxScaler()\n",
    "    mySeries[i] = MinMaxScaler().fit_transform(mySeries[i])\n",
    "    mySeries[i]= mySeries[i].reshape(len(mySeries[i]))"
   ]
  },
  {
   "cell_type": "code",
   "execution_count": 11,
   "id": "07c201d8",
   "metadata": {},
   "outputs": [
    {
     "name": "stdout",
     "output_type": "stream",
     "text": [
      "max: 1.0\tmin: 0.0\n",
      "[0.40812886 0.40739371 0.40760733 0.40815812 0.40736352]\n"
     ]
    }
   ],
   "source": [
    "print(\"max: \"+str(max(mySeries[0]))+\"\\tmin: \"+str(min(mySeries[0])))\n",
    "print(mySeries[0][-5:])"
   ]
  },
  {
   "cell_type": "markdown",
   "id": "de39c057",
   "metadata": {},
   "source": [
    "On a tout normalisé, on peut donc entraîner MiniSom sur nos données. On va faire varier le nombre de clusters entre 2 et 100, puis run chaque simulation 100 fois pour un nombre de clusters données afin d'avoir une moyenne."
   ]
  },
  {
   "cell_type": "code",
   "execution_count": 12,
   "id": "62d427da",
   "metadata": {},
   "outputs": [
    {
     "name": "stdout",
     "output_type": "stream",
     "text": [
      "FPR moyen pour 4 clusters: 0.5736961451247167\n",
      "FPR moyen pour 8 clusters: 0.6547392290249434\n",
      "FPR moyen pour 12 clusters: 0.4023809523809524\n",
      "FPR moyen pour 16 clusters: 0.34199546485260773\n",
      "FPR moyen pour 20 clusters: 0.3315873015873016\n",
      "FPR moyen pour 24 clusters: 0.2761224489795918\n",
      "FPR moyen pour 28 clusters: 0.2891609977324263\n",
      "FPR moyen pour 32 clusters: 0.25630385487528345\n",
      "FPR moyen pour 36 clusters: 0.24276643990929703\n",
      "FPR moyen pour 40 clusters: 0.21120181405895694\n",
      "FPR moyen pour 44 clusters: 0.20204081632653062\n",
      "FPR moyen pour 48 clusters: 0.20684807256235824\n",
      "FPR moyen pour 52 clusters: 0.19727891156462588\n",
      "FPR moyen pour 56 clusters: 0.1852607709750567\n",
      "FPR moyen pour 60 clusters: 0.18217687074829933\n",
      "FPR moyen pour 64 clusters: 0.18569160997732428\n",
      "FPR moyen pour 68 clusters: 0.18024943310657593\n",
      "FPR moyen pour 72 clusters: 0.1719274376417234\n",
      "FPR moyen pour 76 clusters: 0.17941043083900227\n",
      "FPR moyen pour 80 clusters: 0.16979591836734695\n",
      "FPR moyen pour 84 clusters: 0.17433106575963717\n",
      "FPR moyen pour 88 clusters: 0.1712018140589569\n",
      "FPR moyen pour 92 clusters: 0.17340136054421765\n",
      "FPR moyen pour 96 clusters: 0.17117913832199544\n"
     ]
    }
   ],
   "source": [
    "fpr_rates = []\n",
    "\n",
    "som_y = 4\n",
    "\n",
    "for som_x in range(1, 25):\n",
    "\n",
    "    nb_clusters = som_x*som_y\n",
    "    \n",
    "    fpr = []\n",
    "    \n",
    "    for counter in range(50):\n",
    "        som = MiniSom(som_x, som_y,len(mySeries[0]), sigma=0.3, learning_rate = 0.1)\n",
    "\n",
    "        som.random_weights_init(mySeries)\n",
    "        som.train(mySeries, 5000)\n",
    "#         print(som.quantization_error(mySeries)) #print(type(win_map[(4, 2)]))\n",
    "\n",
    "        win_map = som.win_map(mySeries)\n",
    "\n",
    "        #------------------------------------------------------------------------------------------------------------\n",
    "        xpl_clusters = []\n",
    "        nxpl_clusters = []\n",
    "\n",
    "        nb_clusters = som_x*som_y #vaut 81\n",
    "        cluster_exploitability = [0]*nb_clusters\n",
    "        cluster_results = []\n",
    "        for count in range(nb_clusters):\n",
    "            cluster_results.append([])    \n",
    "\n",
    "        #------------------------------------------------------------------------------------------------------------\n",
    "        y_pred = []\n",
    "\n",
    "        for i in range(len(mySeries)):\n",
    "            (x, y) = som.winner(mySeries[i])\n",
    "            cluster_results[x*som_y+y].append(y_true[i])\n",
    "\n",
    "        for j in range(nb_clusters):\n",
    "            if len(cluster_results[j]) > 0:\n",
    "                avg = np.sum(cluster_results[j])/len(cluster_results[j])\n",
    "                cluster_exploitability[j] = round(avg)\n",
    "\n",
    "        for sample in mySeries:\n",
    "            (x, y) = som.winner(sample)\n",
    "            y_pred.append(cluster_exploitability[x*som_y + y])\n",
    "\n",
    "        #------------------------------------------------------------------------------------------------------------\n",
    "        cm = confusion_matrix(y_true, y_pred)\n",
    "        tn, fp, fn, tp = cm.ravel()\n",
    "\n",
    "        fpr.append(fp/(fp+tn))\n",
    "    \n",
    "    fpr_avg = np.sum(fpr)/len(fpr)\n",
    "    print(\"FPR moyen pour \" + str(nb_clusters) + \" clusters: \" + str(fpr_avg))\n",
    "    fpr_rates.append(fpr_avg)"
   ]
  },
  {
   "cell_type": "code",
   "execution_count": 15,
   "id": "c8a05504",
   "metadata": {},
   "outputs": [
    {
     "data": {
      "image/png": "[encoded data removed]",
      "text/plain": [
       "<Figure size 720x360 with 1 Axes>"
      ]
     },
     "metadata": {
      "needs_background": "light"
     },
     "output_type": "display_data"
    }
   ],
   "source": [
    "fig = plt.figure(figsize=(10, 5))\n",
    "nb_clusters_list = [x*4 for x in range(1, 25)]\n",
    "plt.plot(nb_clusters_list, fpr_rates, 'bo')\n",
    "plt.xlabel(\"Nombre de clusters\")\n",
    "plt.ylabel(\"$FPR$ moyen\")\n",
    "plt.title(\"$FPR$ moyen en fonction du nombre de clusters\")\n",
    "plt.show()"
   ]
  },
  {
   "cell_type": "code",
   "execution_count": null,
   "id": "444b40d4",
   "metadata": {},
   "outputs": [],
   "source": []
  }
 ],
 "metadata": {
  "kernelspec": {
   "display_name": "Python 3 (ipykernel)",
   "language": "python",
   "name": "python3"
  },
  "language_info": {
   "codemirror_mode": {
    "name": "ipython",
    "version": 3
   },
   "file_extension": ".py",
   "mimetype": "text/x-python",
   "name": "python",
   "nbconvert_exporter": "python",
   "pygments_lexer": "ipython3",
   "version": "3.9.7"
  }
 },
 "nbformat": 4,
 "nbformat_minor": 5
}
